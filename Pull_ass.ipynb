{
 "cells": [
  {
   "cell_type": "code",
   "execution_count": 6,
   "metadata": {},
   "outputs": [
    {
     "name": "stdout",
     "output_type": "stream",
     "text": [
      "Total votes =3521001\n",
      "Khan:2218231(0.6300001050837531)\n",
      "Correy:704200(0.19999994319797126)\n",
      "Li:492940(0.13999996023857988)\n",
      "O'Tooley:105630(0.02999999147969569)\n",
      "The winner = Khan = 2218231(0.02999999147969569)\n"
     ]
    }
   ],
   "source": [
    "import os\n",
    "import csv\n",
    "csv_path = os.path.join(\"Resources\",\"election_data.csv\")\n",
    "with open(csv_path, newline='') as csvfile:\n",
    "    csvreader = csv.reader(csvfile, delimiter=',')\n",
    "    votes = 0\n",
    "    candidates={}\n",
    "    candidate_percentage = 0\n",
    "    largest=0\n",
    "    candidate_win=0\n",
    "    \n",
    "    Header=next(csvreader)\n",
    "    for row in csvreader:\n",
    "        votes = votes + 1\n",
    "        if row[2] not in candidates:\n",
    "            candidates[row[2]] = 1\n",
    "        elif row[2] in candidates:\n",
    "            candidates[row[2]]= candidates[row[2]] +1\n",
    "    print(\"Total votes =\" + str(votes))\n",
    "    for key in candidates:\n",
    "        candidate_percentage = candidates[key]/int(votes)\n",
    "        print(f\"{key}:{candidates[key]}({candidate_percentage})\")\n",
    "        if candidates[key] > candidate_win:\n",
    "            candidate_win = candidates[key]\n",
    "            win= key\n",
    "print(f\"The winner = {win} = {candidate_win}({candidate_percentage})\")"
   ]
  },
  {
   "cell_type": "code",
   "execution_count": null,
   "metadata": {},
   "outputs": [],
   "source": []
  }
 ],
 "metadata": {
  "kernelspec": {
   "display_name": "Python 3",
   "language": "python",
   "name": "python3"
  },
  "language_info": {
   "codemirror_mode": {
    "name": "ipython",
    "version": 3
   },
   "file_extension": ".py",
   "mimetype": "text/x-python",
   "name": "python",
   "nbconvert_exporter": "python",
   "pygments_lexer": "ipython3",
   "version": "3.7.0"
  }
 },
 "nbformat": 4,
 "nbformat_minor": 2
}
