{
 "cells": [
  {
   "cell_type": "code",
   "execution_count": 1,
   "metadata": {},
   "outputs": [
    {
     "name": "stdout",
     "output_type": "stream",
     "text": [
      "Number of months= 86\n",
      "Profit/Loss= 38382578\n",
      "The average profit/loss = 446309.0465116279\n",
      "The largest profit = 1170593\n",
      "The smallest profit = -1196225\n"
     ]
    }
   ],
   "source": [
    "import os\n",
    "import csv\n",
    "csv_path = os.path.join(\"Resources\",\"Payback.csv\")\n",
    "with open(csv_path, newline='') as csvfile:\n",
    "    csvreader = csv.reader(csvfile, delimiter=',')\n",
    "    average=0\n",
    "    Sum=0\n",
    "    row=0\n",
    "    largest=0\n",
    "    smallest=0\n",
    "    Number_ofmonths=0\n",
    "    Profit_loss=0\n",
    "    Header= next(csvreader)\n",
    "\n",
    "    for row in csvreader:\n",
    "        Number_ofmonths = Number_ofmonths +1\n",
    "        Profit_loss = int(row[1]) + Profit_loss\n",
    "        if float(row[1]) >largest: \n",
    "                largest = int(row[1])\n",
    "        elif float(row[1]) <smallest:\n",
    "             smallest = int(row[1])\n",
    "                \n",
    "    Average_Pro_lost = Profit_loss/Number_ofmonths\n",
    "    \n",
    "print(f\"Number of months= {Number_ofmonths}\")\n",
    "print(f\"Profit/Loss= {Profit_loss}\")\n",
    "print(f\"The average profit/loss = {Average_Pro_lost}\")\n",
    "print(f\"The largest profit = {largest}\")\n",
    "print(f\"The smallest profit = {smallest}\")\n"
   ]
  },
  {
   "cell_type": "code",
   "execution_count": null,
   "metadata": {},
   "outputs": [],
   "source": []
  }
 ],
 "metadata": {
  "kernelspec": {
   "display_name": "Python 3",
   "language": "python",
   "name": "python3"
  },
  "language_info": {
   "codemirror_mode": {
    "name": "ipython",
    "version": 3
   },
   "file_extension": ".py",
   "mimetype": "text/x-python",
   "name": "python",
   "nbconvert_exporter": "python",
   "pygments_lexer": "ipython3",
   "version": "3.7.0"
  }
 },
 "nbformat": 4,
 "nbformat_minor": 2
}
