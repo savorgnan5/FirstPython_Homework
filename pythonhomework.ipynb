{
 "cells": [
  {
   "cell_type": "code",
   "execution_count": 7,
   "metadata": {},
   "outputs": [
    {
     "ename": "SyntaxError",
     "evalue": "can't assign to function call (<ipython-input-7-27a153f71b76>, line 21)",
     "output_type": "error",
     "traceback": [
      "\u001b[0;36m  File \u001b[0;32m\"<ipython-input-7-27a153f71b76>\"\u001b[0;36m, line \u001b[0;32m21\u001b[0m\n\u001b[0;31m    float(row[1]) =smallest\u001b[0m\n\u001b[0m    ^\u001b[0m\n\u001b[0;31mSyntaxError\u001b[0m\u001b[0;31m:\u001b[0m can't assign to function call\n"
     ]
    }
   ],
   "source": [
    "import os\n",
    "import csv\n",
    "csv_path = os.path.join(\"Resources\",\"Payback.csv\")\n",
    "with open(csv_path, newline='') as csvfile:\n",
    "     csvreader = csv.reader(csvfile, delimiter=',')\n",
    "average=0\n",
    "Sum=0\n",
    "row=0\n",
    "largest=0\n",
    "smallest=0\n",
    "Number_ofmonths=0\n",
    "Average_Profit_lost=0\n",
    "Number_months = int(len(row[0]))\n",
    "Profit_loss = sum(float(row[1]))\n",
    "Average_Pro_lost = sum(float(row[1]))/int(len(row[1])*100)\n",
    "\n",
    "for row in csvreader:\n",
    "    if float(row[1]) >largest: \n",
    "           float(row[1]) =largest\n",
    "    elif float(row[1]) <smallest:\n",
    "           float(row[1]) =smallest\n",
    "            \n",
    "print(Number_months)\n",
    "print(Average_Profit_lost)\n",
    "print(largest)\n",
    "print(smallest)\n",
    "\n",
    "\n",
    "        \n",
    "        \n",
    "        \n",
    "        \n"
   ]
  },
  {
   "cell_type": "code",
   "execution_count": 9,
   "metadata": {},
   "outputs": [
    {
     "ename": "SyntaxError",
     "evalue": "invalid syntax (<ipython-input-9-3aa1ed4288bc>, line 8)",
     "output_type": "error",
     "traceback": [
      "\u001b[0;36m  File \u001b[0;32m\"<ipython-input-9-3aa1ed4288bc>\"\u001b[0;36m, line \u001b[0;32m8\u001b[0m\n\u001b[0;31m    candidates[]\u001b[0m\n\u001b[0m               ^\u001b[0m\n\u001b[0;31mSyntaxError\u001b[0m\u001b[0;31m:\u001b[0m invalid syntax\n"
     ]
    }
   ],
   "source": [
    "import os\n",
    "import csv\n",
    "csv_path = os.path.join(\"Resources\",\"election_data.csv\")\n",
    "with open(csvpath, newline='') as csvfile:\n",
    "    csvreader = csv.reader(csvfile, delimiter=',')\n",
    "    votes = 0\n",
    "    votes = sum(int(row[0]))\n",
    "    candidates[]\n",
    "    candidate_votes = 0\n",
    "    candidate_percentage = 0\n",
    "    \n",
    "    for row in csvreader:\n",
    "        if row[2]!= row[2] +1:\n",
    "            candidates.append(row[2])\n",
    "        if row[2]==row[2]:\n",
    "            sum(int(row[0]))\n",
    "            candidate_votes = sum(int(row[0])) \n",
    "            candidate_percentage = candidate_votes/votes*100\n",
    "        if candidate_votes > candidate_votes:\n",
    "            candidate_win = candidate_votes\n",
    "print(\"Total =\" votes)\n",
    "print(f\"This are the candidates{candidates} = {int(candidate_votes)}({int(candidate_percentage)}\")\n",
    "print(f\"{candidate_win(row[2])} = {int(candidate_votes)}({int(candidate_percentage)}\")\n",
    "        \n",
    "          \n",
    "    "
   ]
  },
  {
   "cell_type": "code",
   "execution_count": null,
   "metadata": {},
   "outputs": [],
   "source": []
  },
  {
   "cell_type": "code",
   "execution_count": null,
   "metadata": {},
   "outputs": [],
   "source": []
  }
 ],
 "metadata": {
  "kernelspec": {
   "display_name": "Python 3",
   "language": "python",
   "name": "python3"
  },
  "language_info": {
   "codemirror_mode": {
    "name": "ipython",
    "version": 3
   },
   "file_extension": ".py",
   "mimetype": "text/x-python",
   "name": "python",
   "nbconvert_exporter": "python",
   "pygments_lexer": "ipython3",
   "version": "3.7.0"
  }
 },
 "nbformat": 4,
 "nbformat_minor": 2
}
