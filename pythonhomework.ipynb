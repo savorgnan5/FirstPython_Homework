{
 "cells": [
  {
   "cell_type": "code",
   "execution_count": 11,
   "metadata": {},
   "outputs": [
    {
     "ename": "IndentationError",
     "evalue": "unexpected indent (<ipython-input-11-ce53461fd809>, line 13)",
     "output_type": "error",
     "traceback": [
      "\u001b[0;36m  File \u001b[0;32m\"<ipython-input-11-ce53461fd809>\"\u001b[0;36m, line \u001b[0;32m13\u001b[0m\n\u001b[0;31m    for row in csvreader:\u001b[0m\n\u001b[0m    ^\u001b[0m\n\u001b[0;31mIndentationError\u001b[0m\u001b[0;31m:\u001b[0m unexpected indent\n"
     ]
    }
   ],
   "source": [
    "import os\n",
    "import csv\n",
    "csv_path = os.path.join(\"Resources\",\"Payback.csv\")\n",
    "with open(csvpath, newline='') as csvfile:\n",
    "     csvreader = csv.reader(csvfile, delimiter=',')\n",
    "average=0\n",
    "Sum=0\n",
    "row=0\n",
    "largest=0\n",
    "smallest=0\n",
    "Number_ofmonths=0\n",
    "Average_Profit_lost=0\n",
    "Number_months = row(len[0])\n",
    "Profit_loss = sum(float(row[1]))\n",
    "Average_Pro_lost = sum(float(row[1]))/row(len[0])\n",
    "\n",
    "     for row in csvreader:\n",
    "        if row[1] >largest \n",
    "           row[1] =largest\n",
    "        elif row[1] <smallest\n",
    "            row[1] =smallest\n",
    "print(Number_months)\n",
    "print(Average_Profit_lost)\n",
    "print(largest)\n",
    "print(smallest)\n",
    "\n",
    "\n",
    "        \n",
    "        \n",
    "        \n",
    "        \n"
   ]
  },
  {
   "cell_type": "code",
   "execution_count": 13,
   "metadata": {},
   "outputs": [
    {
     "ename": "SyntaxError",
     "evalue": "invalid syntax (<ipython-input-13-0085372c3c42>, line 8)",
     "output_type": "error",
     "traceback": [
      "\u001b[0;36m  File \u001b[0;32m\"<ipython-input-13-0085372c3c42>\"\u001b[0;36m, line \u001b[0;32m8\u001b[0m\n\u001b[0;31m    candidates[]\u001b[0m\n\u001b[0m               ^\u001b[0m\n\u001b[0;31mSyntaxError\u001b[0m\u001b[0;31m:\u001b[0m invalid syntax\n"
     ]
    }
   ],
   "source": [
    "import os\n",
    "import csv\n",
    "csv_path = os.path.join(\"Resources\",\"election_data.csv\")\n",
    "with open(csvpath, newline='') as csvfile:\n",
    "    csvreader = csv.reader(csvfile, delimiter=',')\n",
    "    votes = 0\n",
    "    votes = sum(row[0])\n",
    "    candidates[]\n",
    "    candidate_votes = 0\n",
    "    candidate_percentage = 0\n",
    "    for row in csvreader:\n",
    "        if row[2]!= row[2] +1\n",
    "            candidates.append(row[2])\n",
    "        if row[2]==row[2]\n",
    "            sum(row[0])\n",
    "            candidate_votes = sum(row[0]) \n",
    "            candidate_percentage = candidate_votes/votes\n",
    "        if candidate_votes > candidate_votes\n",
    "           candidate_votes_candidate_win = candidate_votes\n",
    "print(votes)\n",
    "print(candidates)\n",
    "print(candidate_votes)\n",
    "print(candidate_percentage)\n",
    "print(candidate_votes-candidate_win)\n",
    "        \n",
    "        \n",
    "    \n",
    "    \n",
    "    "
   ]
  },
  {
   "cell_type": "code",
   "execution_count": null,
   "metadata": {},
   "outputs": [],
   "source": []
  },
  {
   "cell_type": "code",
   "execution_count": null,
   "metadata": {},
   "outputs": [],
   "source": []
  }
 ],
 "metadata": {
  "kernelspec": {
   "display_name": "Python 3",
   "language": "python",
   "name": "python3"
  },
  "language_info": {
   "codemirror_mode": {
    "name": "ipython",
    "version": 3
   },
   "file_extension": ".py",
   "mimetype": "text/x-python",
   "name": "python",
   "nbconvert_exporter": "python",
   "pygments_lexer": "ipython3",
   "version": "3.7.0"
  }
 },
 "nbformat": 4,
 "nbformat_minor": 2
}
