{
 "cells": [
  {
   "cell_type": "code",
   "execution_count": 6,
   "metadata": {},
   "outputs": [
    {
     "name": "stdout",
     "output_type": "stream",
     "text": [
      "Number of months= 86\n",
      "Profit/Loss= 38382578\n",
      "The average profit/loss = 446309.0465116279\n",
      "The largest profit = 1170593\n",
      "The smallest profit = -1196225\n"
     ]
    }
   ],
   "source": [
    "import os\n",
    "import csv\n",
    "csv_path = os.path.join(\"Resources\",\"Payback.csv\")\n",
    "with open(csv_path, newline='') as csvfile:\n",
    "    csvreader = csv.reader(csvfile, delimiter=',')\n",
    "    average=0\n",
    "    Sum=0\n",
    "    row=0\n",
    "    largest=0\n",
    "    smallest=0\n",
    "    Number_ofmonths=0\n",
    "    Profit_loss=0\n",
    "    Header= next(csvreader)\n",
    "\n",
    "    for row in csvreader:\n",
    "        Number_ofmonths = Number_ofmonths +1\n",
    "        Profit_loss = int(row[1]) + Profit_loss\n",
    "        if float(row[1]) >largest: \n",
    "                largest = int(row[1])\n",
    "        elif float(row[1]) <smallest:\n",
    "             smallest = int(row[1])\n",
    "                \n",
    "    Average_Pro_lost = Profit_loss/Number_ofmonths\n",
    "    \n",
    "print(f\"Number of months= {Number_ofmonths}\")\n",
    "print(f\"Profit/Loss= {Profit_loss}\")\n",
    "print(f\"The average profit/loss = {Average_Pro_lost}\")\n",
    "print(f\"The largest profit = {largest}\")\n",
    "print(f\"The smallest profit = {smallest}\")\n",
    "\n",
    "      "
   ]
  },
  {
   "cell_type": "code",
   "execution_count": 4,
   "metadata": {},
   "outputs": [
    {
     "name": "stdout",
     "output_type": "stream",
     "text": [
      "Khan:2218231(0.6300001050837531)\n",
      "Correy:704200(0.19999994319797126)\n",
      "Li:492940(0.13999996023857988)\n",
      "O'Tooley:105630(0.02999999147969569)\n",
      "Total votes =3521001\n",
      "The winner = O'Tooley = 105630(0.02999999147969569)\n"
     ]
    }
   ],
   "source": [
    "import os\n",
    "import csv\n",
    "csv_path = os.path.join(\"Resources\",\"election_data.csv\")\n",
    "with open(csv_path, newline='') as csvfile:\n",
    "    csvreader = csv.reader(csvfile, delimiter=',')\n",
    "    votes = 0\n",
    "    candidates={}\n",
    "    candidate_percentage = 0\n",
    "    largest=0\n",
    "    candidate_win=0\n",
    "    \n",
    "    Header=next(csvreader)\n",
    "    for row in csvreader:\n",
    "        votes = votes + 1\n",
    "        if row[2] not in candidates:\n",
    "            candidates[row[2]] = 1\n",
    "        elif row[2] in candidates:\n",
    "            candidates[row[2]]= candidates[row[2]] +1\n",
    "    for key in candidates:\n",
    "        candidate_percentage = candidates[key]/int(votes)\n",
    "        print(f\"{key}:{candidates[key]}({candidate_percentage})\")\n",
    "        if candidates[key] > largest:\n",
    "            candidates_win = candidates[key]\n",
    "            win= key\n",
    "print(\"Total votes =\" + str(votes))\n",
    "print(f\"The winner = {win} = {candidates_win}({candidate_percentage})\")"
   ]
  },
  {
   "cell_type": "code",
   "execution_count": null,
   "metadata": {},
   "outputs": [],
   "source": []
  },
  {
   "cell_type": "code",
   "execution_count": null,
   "metadata": {},
   "outputs": [],
   "source": []
  }
 ],
 "metadata": {
  "kernelspec": {
   "display_name": "Python 3",
   "language": "python",
   "name": "python3"
  },
  "language_info": {
   "codemirror_mode": {
    "name": "ipython",
    "version": 3
   },
   "file_extension": ".py",
   "mimetype": "text/x-python",
   "name": "python",
   "nbconvert_exporter": "python",
   "pygments_lexer": "ipython3",
   "version": "3.7.0"
  }
 },
 "nbformat": 4,
 "nbformat_minor": 2
}
