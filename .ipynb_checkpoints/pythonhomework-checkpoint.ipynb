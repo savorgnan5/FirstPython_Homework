{
 "cells": [
  {
   "cell_type": "code",
   "execution_count": null,
   "metadata": {},
   "outputs": [],
   "source": [
    "import os\n",
    "import csv\n",
    "csv_path = os.path.join(\"Resources\",\"Payback.csv\")\n",
    "with open(csv_path, newline='') as csvfile:\n",
    "    csvreader = csv.reader(csvfile, delimiter=',')\n",
    "    average=0\n",
    "    Sum=0\n",
    "    row=0\n",
    "    largest=0\n",
    "    smallest=0\n",
    "    Number_ofmonths=0\n",
    "    Profit_loss=0\n",
    "    Header= next(csvreader)\n",
    "\n",
    "    for row in csvreader:\n",
    "        Number_ofmonths = Number_ofmonths +1\n",
    "        Profit_loss = int(row[1]) + Profit_loss\n",
    "        if float(row[1]) >largest: \n",
    "                largest = int(row[1])\n",
    "        elif float(row[1]) <smallest:\n",
    "             smallest = int(row[1])\n",
    "                \n",
    "    Average_Pro_lost = Profit_loss/Number_ofmonths\n",
    "    \n",
    "print(Number_ofmonths)\n",
    "print(Profit_loss)\n",
    "print(largest)\n",
    "print(smallest)\n",
    "print(Average_Pro_lost)\n",
    "print(f\"Number of manonths= {Number_ofmonths}\")\n",
    "print(f\"Profit/Loss= {Profit_loss}\")\n",
    "\n",
    "      "
   ]
  },
  {
   "cell_type": "code",
   "execution_count": null,
   "metadata": {},
   "outputs": [],
   "source": [
    "import os\n",
    "import csv\n",
    "csv_path = os.path.join(\"Resources\",\"election_data.csv\")\n",
    "with open(csv_path, newline='') as csvfile:\n",
    "    csvreader = csv.reader(csvfile, delimiter=',')\n",
    "    votes = 0\n",
    "    candidates={}\n",
    "    candidate_percentage = 0\n",
    "    largest=0\n",
    "    candidate_win=0\n",
    "    \n",
    "    Header=next(csvreader)\n",
    "    print(Header)\n",
    "    for row in csvreader:\n",
    "        votes = int(row[0]) + int(votes)\n",
    "        if row[2] not in candidates:\n",
    "            candidates[row[2]] = 1\n",
    "        elif row[2] in candidates:\n",
    "            candidates[row[2]] +1 \n",
    "            for key in candidates:\n",
    "                candidate_percentage = candidates[key]/int(votes)\n",
    "                print(candidate_percentage)\n",
    "                if candidates[key] > largest:\n",
    "                    largest = candidate_win\n"
   ]
  },
  {
   "cell_type": "code",
   "execution_count": null,
   "metadata": {},
   "outputs": [],
   "source": [
    "print(\"Total =\" + votes)\n",
    "print(f\"This are the candidates{candidates} = {candidates.keys()}({int(candidate_percentage)}\")\n",
    "print(f\"{candidate_win} = {candidates.keys()}{int(candidate_percentage)}\""
   ]
  },
  {
   "cell_type": "code",
   "execution_count": null,
   "metadata": {},
   "outputs": [],
   "source": []
  }
 ],
 "metadata": {
  "kernelspec": {
   "display_name": "Python 3",
   "language": "python",
   "name": "python3"
  },
  "language_info": {
   "codemirror_mode": {
    "name": "ipython",
    "version": 3
   },
   "file_extension": ".py",
   "mimetype": "text/x-python",
   "name": "python",
   "nbconvert_exporter": "python",
   "pygments_lexer": "ipython3",
   "version": "3.7.0"
  }
 },
 "nbformat": 4,
 "nbformat_minor": 2
}
